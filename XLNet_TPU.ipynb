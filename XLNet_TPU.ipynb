{
  "nbformat": 4,
  "nbformat_minor": 0,
  "metadata": {
    "colab": {
      "name": "XLNet_TPU.ipynb",
      "version": "0.3.2",
      "provenance": [],
      "collapsed_sections": [],
      "toc_visible": true,
      "include_colab_link": true
    },
    "kernelspec": {
      "name": "python3",
      "display_name": "Python 3"
    },
    "accelerator": "TPU"
  },
  "cells": [
    {
      "cell_type": "markdown",
      "metadata": {
        "id": "view-in-github",
        "colab_type": "text"
      },
      "source": [
        "<a href=\"https://colab.research.google.com/github/felipefreitas93/Colab_Notebooks/blob/master/XLNet_TPU.ipynb\" target=\"_parent\"><img src=\"https://colab.research.google.com/assets/colab-badge.svg\" alt=\"Open In Colab\"/></a>"
      ]
    },
    {
      "cell_type": "code",
      "metadata": {
        "id": "ryGoAo00YtyY",
        "colab_type": "code",
        "colab": {}
      },
      "source": [
        "FRAC = 0.4\n",
        "NUM_TRAIN_STEPS = 4000*FRAC\n",
        "WARMUP_STEPS = 500*FRAC"
      ],
      "execution_count": 0,
      "outputs": []
    },
    {
      "cell_type": "markdown",
      "metadata": {
        "id": "nogla7ILAr8A",
        "colab_type": "text"
      },
      "source": [
        "## Install sentencepiece\n"
      ]
    },
    {
      "cell_type": "code",
      "metadata": {
        "id": "oyg_OpLWAKhD",
        "colab_type": "code",
        "colab": {}
      },
      "source": [
        "!pip install sentencepiece"
      ],
      "execution_count": 0,
      "outputs": []
    },
    {
      "cell_type": "markdown",
      "metadata": {
        "id": "JTLUKj4SJ86r",
        "colab_type": "text"
      },
      "source": [
        "##Import dependencies"
      ]
    },
    {
      "cell_type": "code",
      "metadata": {
        "id": "HXG1d-yWHcPD",
        "colab_type": "code",
        "colab": {}
      },
      "source": [
        "#install dependencies\n",
        "import os\n",
        "import csv\n",
        "import tensorflow as tf\n",
        "import pandas as pd  \n",
        "import subprocess\n",
        "import sys"
      ],
      "execution_count": 0,
      "outputs": []
    },
    {
      "cell_type": "markdown",
      "metadata": {
        "id": "UdMmwCJFaT8F",
        "colab_type": "text"
      },
      "source": [
        "## Set up the TPU and connect to Cloud Bucket"
      ]
    },
    {
      "cell_type": "code",
      "metadata": {
        "id": "191zq3ZErihP",
        "colab_type": "code",
        "colab": {}
      },
      "source": [
        "import datetime\n",
        "import json\n",
        "import pprint\n",
        "import random\n",
        "import string\n",
        "import sys\n",
        "import tensorflow as tf\n",
        "\n",
        "print(os.environ)\n",
        "\n",
        "assert 'COLAB_TPU_ADDR' in os.environ, 'ERROR: Not connected to a TPU runtime; please see the first cell in this notebook for instructions!'\n",
        "TPU_ADDRESS = 'grpc://' + os.environ['COLAB_TPU_ADDR']\n",
        "print('TPU address is', TPU_ADDRESS)\n",
        "\n",
        "from google.colab import auth\n",
        "auth.authenticate_user()\n",
        "with tf.Session(TPU_ADDRESS) as session:\n",
        "  print('TPU devices:')\n",
        "  pprint.pprint(session.list_devices())\n",
        "\n",
        "  # Upload credentials to TPU.\n",
        "  with open('/content/adc.json', 'r') as f:\n",
        "    auth_info = json.load(f)\n",
        "  tf.contrib.cloud.configure_gcs(session, credentials=auth_info)\n",
        "  # Now credentials are set for all future sessions on this TPU."
      ],
      "execution_count": 0,
      "outputs": []
    },
    {
      "cell_type": "markdown",
      "metadata": {
        "id": "0xTjVroYDdm4",
        "colab_type": "text"
      },
      "source": [
        "##Download GitHub Repository"
      ]
    },
    {
      "cell_type": "code",
      "metadata": {
        "id": "wxguVChxp2fI",
        "colab_type": "code",
        "colab": {}
      },
      "source": [
        "git_url = \"https://github.com/aditya-malte/Colab-XLNet-FineTuning.git\"  #@param {type:\"string\"}\n",
        "os.system(\"git clone \"+git_url)\n",
        "%cd Colab-XLNet-FineTuning"
      ],
      "execution_count": 0,
      "outputs": []
    },
    {
      "cell_type": "code",
      "metadata": {
        "id": "KgpISXC_Ax_O",
        "colab_type": "code",
        "colab": {}
      },
      "source": [
        "!git pull origin master\n",
        "#Use if you have updated git repo and want changes to reflect"
      ],
      "execution_count": 0,
      "outputs": []
    },
    {
      "cell_type": "markdown",
      "metadata": {
        "id": "WAeHkJ_8AbNi",
        "colab_type": "text"
      },
      "source": [
        "##Download the IMDB dataset"
      ]
    },
    {
      "cell_type": "code",
      "metadata": {
        "id": "wHQH4OCHZ9bq",
        "colab_type": "code",
        "colab": {}
      },
      "source": [
        "!wget http://ai.stanford.edu/~amaas/data/sentiment/aclImdb_v1.tar.gz\n",
        "!tar zxf aclImdb_v1.tar.gz\n",
        "\n",
        "def get_to_keep(frac):\n",
        "    path_pos = 'aclImdb/train/pos'\n",
        "    path_neg = 'aclImdb/train/neg'\n",
        "    pos_df = pd.DataFrame(os.listdir(path_pos))\n",
        "    to_keep_pos = pos_df.sample(frac=frac, random_state=1)[0].values.tolist()\n",
        "    neg_df = pd.DataFrame(os.listdir(path_neg))\n",
        "    to_keep_neg = neg_df.sample(frac=frac, random_state=1)[0].values.tolist()\n",
        "    for value_pos in os.listdir(path_pos):\n",
        "        if value_pos not in to_keep_pos:\n",
        "            os.remove(os.path.join(path_pos ,value_pos))\n",
        "    for value_neg in os.listdir(path_neg):\n",
        "        if value_neg not in to_keep_neg:\n",
        "            os.remove(os.path.join(path_neg ,value_neg))\n",
        "            \n",
        "get_to_keep(FRAC)"
      ],
      "execution_count": 0,
      "outputs": []
    },
    {
      "cell_type": "code",
      "metadata": {
        "id": "kW8k3tDRTndN",
        "colab_type": "code",
        "colab": {}
      },
      "source": [
        "repo_name = 'Colab-XLNet-FineTuning' #@param {type:\"string\"}\n",
        "%ls\n",
        "%cd {repo_name}\n",
        "!ls"
      ],
      "execution_count": 0,
      "outputs": []
    },
    {
      "cell_type": "markdown",
      "metadata": {
        "id": "rkTLZ3I4_7c_",
        "colab_type": "text"
      },
      "source": [
        "# XLNet End to End (Fine-tuning + Evaluation) in 5 minutes with Cloud TPU"
      ]
    },
    {
      "cell_type": "markdown",
      "metadata": {
        "id": "Ld-JXlueIuPH",
        "colab_type": "text"
      },
      "source": [
        "## Instructions"
      ]
    },
    {
      "cell_type": "markdown",
      "metadata": {
        "id": "POkof5uHaQ_c",
        "colab_type": "text"
      },
      "source": [
        "<h3><a href=\"https://cloud.google.com/tpu/\"><img valign=\"middle\" src=\"https://raw.githubusercontent.com/GoogleCloudPlatform/tensorflow-without-a-phd/master/tensorflow-rl-pong/images/tpu-hexagon.png\" width=\"50\"></a>  &nbsp;&nbsp;Train on TPU</h3>\n",
        "\n",
        "   1. Create a Cloud Storage bucket for your TensorBoard logs at http://console.cloud.google.com/storage and fill in the BUCKET parameter in the \"Parameters\" section below.\n",
        " \n",
        "   1. On the main menu, click Runtime and select **Change runtime type**. Set \"TPU\" as the hardware accelerator.\n",
        "   1. Click Runtime again and select **Runtime > Run All** (Watch out: the \"Colab-only auth for this notebook and the TPU\" cell requires user input). You can also run the cells manually with Shift-ENTER."
      ]
    },
    {
      "cell_type": "code",
      "metadata": {
        "id": "tYkaAlJNfhul",
        "colab_type": "code",
        "colab": {}
      },
      "source": [
        "TASK = 'IMDB' #@param {type:\"string\"}\n",
        "\n",
        "TASK_DATA_DIR = 'aclImdb' #@param {type:\"string\"}\n",
        "print('***** Task data directory: {} *****'.format(TASK_DATA_DIR))\n",
        "!ls $TASK_DATA_DIR\n",
        "\n",
        "BUCKET = 'deep_learning_bucket_mestrado' #@param {type:\"string\"}\n",
        "assert BUCKET, 'Must specify an existing GCS bucket name'\n",
        "OUTPUT_DIR = 'gs://{}/xlnet/output/{}'.format(BUCKET, TASK)\n",
        "MODEL_DIR = 'gs://{}/xlnet/model/{}'.format(BUCKET, TASK)\n",
        "\n",
        "tf.gfile.MakeDirs(OUTPUT_DIR)\n",
        "tf.gfile.MakeDirs(MODEL_DIR)\n",
        "\n",
        "print('***** Model output directory: {} *****'.format(OUTPUT_DIR))\n",
        "\n"
      ],
      "execution_count": 0,
      "outputs": []
    },
    {
      "cell_type": "markdown",
      "metadata": {
        "id": "uYXW_2vsKGPi",
        "colab_type": "text"
      },
      "source": [
        "##Download the XLNet-Large model"
      ]
    },
    {
      "cell_type": "code",
      "metadata": {
        "id": "m7eW79mM8Qdp",
        "colab_type": "code",
        "colab": {}
      },
      "source": [
        "os.system(\"wget https://storage.googleapis.com/xlnet/released_models/cased_L-24_H-1024_A-16.zip\")\n",
        "os.system(\"unzip cased_L-24_H-1024_A-16.zip\")\n",
        "!ls"
      ],
      "execution_count": 0,
      "outputs": []
    },
    {
      "cell_type": "code",
      "metadata": {
        "id": "EpofnyuR_sYS",
        "colab_type": "code",
        "colab": {}
      },
      "source": [
        "%cd xlnet_cased_L-24_H-1024_A-16\n",
        "!ls"
      ],
      "execution_count": 0,
      "outputs": []
    },
    {
      "cell_type": "code",
      "metadata": {
        "id": "6STFA7rYyStw",
        "colab_type": "code",
        "colab": {}
      },
      "source": [
        "file_names = os.listdir(os.getcwd())\n",
        "print(file_names)"
      ],
      "execution_count": 0,
      "outputs": []
    },
    {
      "cell_type": "markdown",
      "metadata": {
        "id": "VOBt0E9IQTS-",
        "colab_type": "text"
      },
      "source": [
        "##Copy the weights to Google Cloud Bucket"
      ]
    },
    {
      "cell_type": "code",
      "metadata": {
        "id": "RtzjAQT6wZbS",
        "colab_type": "code",
        "colab": {}
      },
      "source": [
        "for file_name in file_names:\n",
        "  print(file_name)\n",
        "  os.system(\"gsutil cp \"+ file_name + \" \" + MODEL_DIR)\n",
        "os.system(\"gsutil ls \" + MODEL_DIR)\n",
        "%cd .."
      ],
      "execution_count": 0,
      "outputs": []
    },
    {
      "cell_type": "markdown",
      "metadata": {
        "id": "rEVts1yAKQ6E",
        "colab_type": "text"
      },
      "source": [
        "##Copy the spiece.model file to local directory"
      ]
    },
    {
      "cell_type": "code",
      "metadata": {
        "id": "Wn6ljng_B-EF",
        "colab_type": "code",
        "colab": {}
      },
      "source": [
        "os.system(\"gsutil cp -r \" + MODEL_DIR + \"/spiece.model spiece.model\")\n",
        "!ls"
      ],
      "execution_count": 0,
      "outputs": []
    },
    {
      "cell_type": "markdown",
      "metadata": {
        "id": "DaxC5jzNKZHT",
        "colab_type": "text"
      },
      "source": [
        "##Choose Hyperparameters"
      ]
    },
    {
      "cell_type": "code",
      "metadata": {
        "id": "Vinj3p_X96ac",
        "colab_type": "code",
        "colab": {}
      },
      "source": [
        "TRAIN_BATCH_SIZE = 32\n",
        "EVAL_BATCH_SIZE = 8\n",
        "PREDICT_BATCH_SIZE = 8\n",
        "LEARNING_RATE = 2e-5\n",
        "MAX_SEQ_LENGTH = 256\n",
        "LEARNING_RATE = 2e-5\n",
        "\n",
        "# Model configs\n",
        "SAVE_CHECKPOINTS_STEPS = 4500\n",
        "NUM_ITERATIONS = 500"
      ],
      "execution_count": 0,
      "outputs": []
    },
    {
      "cell_type": "markdown",
      "metadata": {
        "id": "WMJxfmBaKb7H",
        "colab_type": "text"
      },
      "source": [
        "##Run Training"
      ]
    },
    {
      "cell_type": "code",
      "metadata": {
        "id": "-kyacr8InG8K",
        "colab_type": "code",
        "colab": {}
      },
      "source": [
        "train_command = \"python run_classifier.py \\\n",
        "  --use_tpu=True \\\n",
        "  --use_colab_tpu=True \\\n",
        "  --do_train=True \\\n",
        "  --do_eval=False \\\n",
        "  --task_name=\"+TASK.lower()+\" \\\n",
        "  --data_dir=./\"+TASK_DATA_DIR+\" \\\n",
        "  --output_dir=\"+OUTPUT_DIR+\" \\\n",
        "  --model_dir=\"+MODEL_DIR+\" \\\n",
        "  --uncased=False \\\n",
        "  --tpu_address=\"+TPU_ADDRESS+\"  \\\n",
        "  --spiece_model_file=./spiece.model \\\n",
        "  --model_config_path=\"+MODEL_DIR+\"/xlnet_config.json \\\n",
        "  --init_checkpoint=\"+MODEL_DIR+\"/xlnet_model.ckpt \\\n",
        "  --max_seq_length=\"+str(MAX_SEQ_LENGTH)+\" \\\n",
        "  --train_batch_size=\"+str(TRAIN_BATCH_SIZE)+\" \\\n",
        "  --eval_batch_size=\"+str(EVAL_BATCH_SIZE)+\" \\\n",
        "  --num_hosts=1 \\\n",
        "  --num_core_per_host=8 \\\n",
        "  --learning_rate=\"+str(LEARNING_RATE)+\" \\\n",
        "  --train_steps=\"+str(NUM_TRAIN_STEPS)+\" \\\n",
        "  --warmup_steps=\"+str(WARMUP_STEPS)+\" \\\n",
        "  --save_steps=\"+str(SAVE_CHECKPOINTS_STEPS)+\" \\\n",
        "  --iterations=\"+ str(NUM_ITERATIONS)\n",
        "\n",
        "print(train_command)\n"
      ],
      "execution_count": 0,
      "outputs": []
    },
    {
      "cell_type": "code",
      "metadata": {
        "id": "eX2y2tQcMJ3t",
        "colab_type": "code",
        "colab": {}
      },
      "source": [
        "!{train_command}"
      ],
      "execution_count": 0,
      "outputs": []
    },
    {
      "cell_type": "markdown",
      "metadata": {
        "id": "2Z7zetx0Kfrj",
        "colab_type": "text"
      },
      "source": [
        "##Run Evaluation"
      ]
    },
    {
      "cell_type": "code",
      "metadata": {
        "id": "mk8fzA3J4e5R",
        "colab_type": "code",
        "colab": {}
      },
      "source": [
        "eval_command = \"python run_classifier.py \\\n",
        "  --use_tpu=True \\\n",
        "  --use_colab_tpu=True \\\n",
        "  --do_train=False \\\n",
        "  --do_eval=True \\\n",
        "  --eval_all_ckpt=True \\\n",
        "  --task_name=\"+TASK.lower()+\" \\\n",
        "  --data_dir=./\"+TASK_DATA_DIR+\" \\\n",
        "  --output_dir=\"+OUTPUT_DIR+\" \\\n",
        "  --model_dir=\"+OUTPUT_DIR+\" \\\n",
        "  --uncased=False \\\n",
        "  --tpu_address=\"+TPU_ADDRESS+\"  \\\n",
        "  --spiece_model_file=./spiece.model \\\n",
        "  --model_config_path=\"+MODEL_DIR+\"/xlnet_config.json \\\n",
        "  --init_checkpoint=\"+MODEL_DIR+\"/xlnet_model.ckpt \\\n",
        "  --max_seq_length=\"+str(MAX_SEQ_LENGTH)+\" \\\n",
        "  --train_batch_size=\"+str(TRAIN_BATCH_SIZE)+\" \\\n",
        "  --eval_batch_size=\"+str(EVAL_BATCH_SIZE)+\" \\\n",
        "  --num_hosts=1 \\\n",
        "  --num_core_per_host=8 \\\n",
        "  --learning_rate=2e-5 \\\n",
        "  --train_steps=\"+str(NUM_TRAIN_STEPS)+\" \\\n",
        "  --warmup_steps=\"+str(WARMUP_STEPS)+\" \\\n",
        "  --save_steps=\"+str(SAVE_CHECKPOINTS_STEPS)+\" \\\n",
        "  --iterations=\"+ str(NUM_ITERATIONS)\n",
        "\n",
        "print(eval_command)\n"
      ],
      "execution_count": 0,
      "outputs": []
    },
    {
      "cell_type": "code",
      "metadata": {
        "id": "hmrsBPq34wOb",
        "colab_type": "code",
        "colab": {}
      },
      "source": [
        "!{eval_command}"
      ],
      "execution_count": 0,
      "outputs": []
    }
  ]
}